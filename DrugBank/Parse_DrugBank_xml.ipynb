{
 "cells": [
  {
   "cell_type": "markdown",
   "metadata": {},
   "source": [
    "# 1. Import libraries"
   ]
  },
  {
   "cell_type": "code",
   "execution_count": 1,
   "metadata": {},
   "outputs": [],
   "source": [
    "import os\n",
    "import numpy as np\n",
    "import copy\n",
    "import collections\n",
    "import re\n",
    "import xml.etree.ElementTree as ET\n",
    "import pandas as pd"
   ]
  },
  {
   "cell_type": "markdown",
   "metadata": {},
   "source": [
    "# 2. Construct a basic drug properties table"
   ]
  },
  {
   "cell_type": "markdown",
   "metadata": {},
   "source": [
    "## 2.1 Extract all drugs "
   ]
  },
  {
   "cell_type": "code",
   "execution_count": 2,
   "metadata": {},
   "outputs": [],
   "source": [
    "xml_path = os.path.join(os.path.curdir, 'full database.xml')\n",
    "tree = ET.parse(xml_path)"
   ]
  },
  {
   "cell_type": "code",
   "execution_count": 3,
   "metadata": {},
   "outputs": [],
   "source": [
    "root = tree.getroot()"
   ]
  },
  {
   "cell_type": "code",
   "execution_count": 4,
   "metadata": {},
   "outputs": [],
   "source": [
    "ns = '{http://www.drugbank.ca}'\n",
    "\n",
    "rows = list()\n",
    "for i, drug in enumerate(root): \n",
    "    row = collections.OrderedDict()\n",
    "    row['drugbank_id'] = drug.findtext(ns + \"drugbank-id[@primary='true']\")\n",
    "    row['name'] = drug.findtext(ns + \"name\")\n",
    "#     row['synonyms'] = drug.findtext(ns + \"synonyms\")\n",
    "#     row['synonyms'] = drug.get(\"synonyms\")\n",
    "    row['synonyms'] = [synonym.text for synonym in drug.findall(\"{ns}synonyms/{ns}synonym\".format(ns = ns))]\n",
    "    row['type'] = drug.get('type')\n",
    "    row['groups'] = [group.text for group in drug.findall(\"{ns}groups/{ns}group\".format(ns = ns))]\n",
    "    row['atc_codes'] = [code.get('code') for code in\n",
    "        drug.findall(\"{ns}atc-codes/{ns}atc-code\".format(ns = ns))]\n",
    "    row['mesh_ids'] = [mesh_id.text for mesh_id in\n",
    "        drug.findall(\"{ns}categories/{ns}category/{ns}mesh-id\".format(ns = ns))]\n",
    "    row['categories'] = [cat.findtext(ns + 'category') for cat in\n",
    "        drug.findall(\"{ns}categories/{ns}category\".format(ns = ns))]\n",
    "    \n",
    "    row['logP'] = drug.findtext(\"{ns}calculated-properties/{ns}property[{ns}kind='logP']/{ns}value\".format(ns = ns))\n",
    "    row['logS'] = drug.findtext(\"{ns}calculated-properties/{ns}property[{ns}kind='logS']/{ns}value\".format(ns = ns))\n",
    "    row['mw'] = drug.findtext(\"{ns}calculated-properties/{ns}property[{ns}kind='Molecular Weight']/{ns}value\".format(ns = ns))\n",
    "    row['psa'] = drug.findtext(\"{ns}calculated-properties/{ns}property[{ns}kind='Polar Surface Area (PSA)']/{ns}value\".format(ns = ns))\n",
    "    row['hbondacceptor'] = drug.findtext(\"{ns}calculated-properties/{ns}property[{ns}kind='H Bond Acceptor Count']/{ns}value\".format(ns = ns))\n",
    "    row['hbonddonor'] = drug.findtext(\"{ns}calculated-properties/{ns}property[{ns}kind='H Bond Donor Count']/{ns}value\".format(ns = ns)) \n",
    "    row['inchi'] = drug.findtext(\"{ns}calculated-properties/{ns}property[{ns}kind='InChI']/{ns}value\".format(ns = ns))\n",
    "    row['inchikey'] = drug.findtext(\"{ns}calculated-properties/{ns}property[{ns}kind='InChIKey']/{ns}value\".format(ns = ns))\n",
    "    row['smiles'] = drug.findtext(\"{ns}calculated-properties/{ns}property[{ns}kind='SMILES']/{ns}value\".format(ns = ns))\n",
    "    row['description'] = drug.findtext(ns + \"description\")\n",
    "    \n",
    "    row['targets'] = [target.findtext(ns + \"name\") \\\n",
    "       for target in drug.findall('{ns}{cat}s/{ns}{cat}'.format(ns=ns, cat='target'))]\n",
    "    row['targets_genes'] = [target.findtext(ns + \"gene-name\") \\\n",
    "       for target in drug.findall('{ns}{cat}s/{ns}{cat}/{ns}polypeptide'.format(ns=ns, cat='target'))]\n",
    "    row['enzymes'] = [enzyme.findtext(ns + \"name\") \\\n",
    "       for enzyme in drug.findall('{ns}{cat}s/{ns}{cat}'.format(ns=ns, cat='enzyme'))]\n",
    "    row['enzymes_genes'] = [enzyme.findtext(ns + \"gene-name\") \\\n",
    "       for enzyme in drug.findall('{ns}{cat}s/{ns}{cat}/{ns}polypeptide'.format(ns=ns, cat='enzyme'))]\n",
    "    row['carriers'] = [carrier.findtext(ns + \"name\") \\\n",
    "       for carrier in drug.findall('{ns}{cat}s/{ns}{cat}'.format(ns=ns, cat='carrier'))]\n",
    "    row['carriers_genes'] = [carrier.findtext(ns + \"gene-name\") \\\n",
    "       for carrier in drug.findall('{ns}{cat}s/{ns}{cat}/{ns}polypeptide'.format(ns=ns, cat='carrier'))]\n",
    "    row['transporters'] = [transporter.findtext(ns + \"name\") \\\n",
    "       for transporter in drug.findall('{ns}{cat}s/{ns}{cat}'.format(ns=ns, cat='transporter'))]\n",
    "    row['transporters_genes'] = [carrier.findtext(ns + \"gene-name\") \\\n",
    "       for carrier in drug.findall('{ns}{cat}s/{ns}{cat}/{ns}polypeptide'.format(ns=ns, cat='transporter'))]\n",
    "    \n",
    "    row['routes'] = [route.findtext(ns + \"route\") for route in\n",
    "        drug.findall(\"{ns}dosages/{ns}dosage\".format(ns = ns))]\n",
    "    row['forms'] = [form.findtext(ns + \"form\") for form in\n",
    "        drug.findall(\"{ns}dosages/{ns}dosage\".format(ns = ns))]\n",
    "    row['strengths'] = [strength.findtext(ns + \"strength\") for strength in\n",
    "        drug.findall(\"{ns}dosages/{ns}dosage\".format(ns = ns))]\n",
    " \n",
    "\n",
    "    rows.append(copy.copy(row))"
   ]
  },
  {
   "cell_type": "code",
   "execution_count": 5,
   "metadata": {},
   "outputs": [],
   "source": [
    "columns = ['drugbank_id', 'name', 'synonyms','type', 'groups', 'atc_codes', 'mesh_ids', 'categories', 'logP','logS',\\\n",
    "           'mw','psa','hbondacceptor','hbonddonor','inchi', 'inchikey', 'smiles','description',\\\n",
    "           'targets','targets_genes','enzymes','enzymes_genes','carriers','carriers_genes','transporters','transporters_genes',\\\n",
    "          'routes', 'forms', 'strengths']\n",
    "drugbank_df = pd.DataFrame.from_dict(rows)[columns]"
   ]
  },
  {
   "cell_type": "code",
   "execution_count": 6,
   "metadata": {},
   "outputs": [
    {
     "data": {
      "text/html": [
       "<div>\n",
       "<style scoped>\n",
       "    .dataframe tbody tr th:only-of-type {\n",
       "        vertical-align: middle;\n",
       "    }\n",
       "\n",
       "    .dataframe tbody tr th {\n",
       "        vertical-align: top;\n",
       "    }\n",
       "\n",
       "    .dataframe thead th {\n",
       "        text-align: right;\n",
       "    }\n",
       "</style>\n",
       "<table border=\"1\" class=\"dataframe\">\n",
       "  <thead>\n",
       "    <tr style=\"text-align: right;\">\n",
       "      <th></th>\n",
       "      <th>drugbank_id</th>\n",
       "      <th>name</th>\n",
       "      <th>synonyms</th>\n",
       "      <th>type</th>\n",
       "      <th>groups</th>\n",
       "      <th>atc_codes</th>\n",
       "      <th>mesh_ids</th>\n",
       "      <th>categories</th>\n",
       "      <th>logP</th>\n",
       "      <th>logS</th>\n",
       "      <th>...</th>\n",
       "      <th>targets_genes</th>\n",
       "      <th>enzymes</th>\n",
       "      <th>enzymes_genes</th>\n",
       "      <th>carriers</th>\n",
       "      <th>carriers_genes</th>\n",
       "      <th>transporters</th>\n",
       "      <th>transporters_genes</th>\n",
       "      <th>routes</th>\n",
       "      <th>forms</th>\n",
       "      <th>strengths</th>\n",
       "    </tr>\n",
       "  </thead>\n",
       "  <tbody>\n",
       "    <tr>\n",
       "      <th>0</th>\n",
       "      <td>DB00001</td>\n",
       "      <td>Lepirudin</td>\n",
       "      <td>[Hirudin variant-1, Lepirudin recombinant]</td>\n",
       "      <td>biotech</td>\n",
       "      <td>[approved]</td>\n",
       "      <td>[B01AE02]</td>\n",
       "      <td>[D000602, D000925, D058833, D000991, None, D00...</td>\n",
       "      <td>[Amino Acids, Peptides, and Proteins, Anticoag...</td>\n",
       "      <td>None</td>\n",
       "      <td>None</td>\n",
       "      <td>...</td>\n",
       "      <td>[F2]</td>\n",
       "      <td>[]</td>\n",
       "      <td>[]</td>\n",
       "      <td>[]</td>\n",
       "      <td>[]</td>\n",
       "      <td>[]</td>\n",
       "      <td>[]</td>\n",
       "      <td>[Intravenous, Intravenous, Intravenous, Intrav...</td>\n",
       "      <td>[Injection, solution, concentrate, Injection, ...</td>\n",
       "      <td>[20 mg, 50 mg, 50 mg/1mL, 50 mg]</td>\n",
       "    </tr>\n",
       "    <tr>\n",
       "      <th>1</th>\n",
       "      <td>DB00002</td>\n",
       "      <td>Cetuximab</td>\n",
       "      <td>[Cetuximab, Cétuximab, Cetuximabum, Immunoglob...</td>\n",
       "      <td>biotech</td>\n",
       "      <td>[approved]</td>\n",
       "      <td>[L01XC06]</td>\n",
       "      <td>[D000602, D000906, D000911, D061067, D000970, ...</td>\n",
       "      <td>[Amino Acids, Peptides, and Proteins, Antibodi...</td>\n",
       "      <td>None</td>\n",
       "      <td>None</td>\n",
       "      <td>...</td>\n",
       "      <td>[EGFR, FCGR3B, C1R, C1QA, C1QB, C1QC, FCGR3A, ...</td>\n",
       "      <td>[]</td>\n",
       "      <td>[]</td>\n",
       "      <td>[]</td>\n",
       "      <td>[]</td>\n",
       "      <td>[]</td>\n",
       "      <td>[]</td>\n",
       "      <td>[Intravenous, Intravenous, Intravenous]</td>\n",
       "      <td>[Injection, solution, Solution, Solution]</td>\n",
       "      <td>[5 mg/ml, 2 mg, 2 mg/1mL]</td>\n",
       "    </tr>\n",
       "    <tr>\n",
       "      <th>2</th>\n",
       "      <td>DB00003</td>\n",
       "      <td>Dornase alfa</td>\n",
       "      <td>[Deoxyribonuclease (human clone 18-1 protein m...</td>\n",
       "      <td>biotech</td>\n",
       "      <td>[approved]</td>\n",
       "      <td>[R05CB13]</td>\n",
       "      <td>[D000602, None, None, D003851, D004706, D00472...</td>\n",
       "      <td>[Amino Acids, Peptides, and Proteins, Cough an...</td>\n",
       "      <td>None</td>\n",
       "      <td>None</td>\n",
       "      <td>...</td>\n",
       "      <td>[]</td>\n",
       "      <td>[]</td>\n",
       "      <td>[]</td>\n",
       "      <td>[]</td>\n",
       "      <td>[]</td>\n",
       "      <td>[]</td>\n",
       "      <td>[]</td>\n",
       "      <td>[Respiratory (inhalation), Respiratory (inhala...</td>\n",
       "      <td>[Solution, Solution]</td>\n",
       "      <td>[1 mg/1mL, ]</td>\n",
       "    </tr>\n",
       "    <tr>\n",
       "      <th>3</th>\n",
       "      <td>DB00004</td>\n",
       "      <td>Denileukin diftitox</td>\n",
       "      <td>[Denileukin, Interleukin-2/diptheria toxin fus...</td>\n",
       "      <td>biotech</td>\n",
       "      <td>[approved, investigational]</td>\n",
       "      <td>[L01XX29]</td>\n",
       "      <td>[D036002, D000602, D000970, None, D001427, D00...</td>\n",
       "      <td>[ADP Ribose Transferases, Amino Acids, Peptide...</td>\n",
       "      <td>None</td>\n",
       "      <td>None</td>\n",
       "      <td>...</td>\n",
       "      <td>[IL2RA, IL2RB, IL2RG]</td>\n",
       "      <td>[]</td>\n",
       "      <td>[]</td>\n",
       "      <td>[]</td>\n",
       "      <td>[]</td>\n",
       "      <td>[]</td>\n",
       "      <td>[]</td>\n",
       "      <td>[Intravenous]</td>\n",
       "      <td>[Injection, solution]</td>\n",
       "      <td>[150 ug/1mL]</td>\n",
       "    </tr>\n",
       "    <tr>\n",
       "      <th>4</th>\n",
       "      <td>DB00005</td>\n",
       "      <td>Etanercept</td>\n",
       "      <td>[Etanercept, etanercept-szzs, etanercept-ykro,...</td>\n",
       "      <td>biotech</td>\n",
       "      <td>[approved, investigational]</td>\n",
       "      <td>[L04AB01]</td>\n",
       "      <td>[None, D000602, D000893, D000906, D018501, D00...</td>\n",
       "      <td>[Agents reducing cytokine levels, Amino Acids,...</td>\n",
       "      <td>None</td>\n",
       "      <td>None</td>\n",
       "      <td>...</td>\n",
       "      <td>[TNF, TNFRSF1B, FCGR1A, FCGR3A, FCGR2A, FCGR2B...</td>\n",
       "      <td>[]</td>\n",
       "      <td>[]</td>\n",
       "      <td>[]</td>\n",
       "      <td>[]</td>\n",
       "      <td>[]</td>\n",
       "      <td>[]</td>\n",
       "      <td>[Subcutaneous, Subcutaneous, Subcutaneous, Sub...</td>\n",
       "      <td>[Solution, , Injection, powder, for solution, ...</td>\n",
       "      <td>[, 25 mg/1mL, 10 mg, 25 mg, 50 mg, 25 mg, 50 m...</td>\n",
       "    </tr>\n",
       "  </tbody>\n",
       "</table>\n",
       "<p>5 rows × 29 columns</p>\n",
       "</div>"
      ],
      "text/plain": [
       "  drugbank_id                 name  \\\n",
       "0     DB00001            Lepirudin   \n",
       "1     DB00002            Cetuximab   \n",
       "2     DB00003         Dornase alfa   \n",
       "3     DB00004  Denileukin diftitox   \n",
       "4     DB00005           Etanercept   \n",
       "\n",
       "                                            synonyms     type  \\\n",
       "0         [Hirudin variant-1, Lepirudin recombinant]  biotech   \n",
       "1  [Cetuximab, Cétuximab, Cetuximabum, Immunoglob...  biotech   \n",
       "2  [Deoxyribonuclease (human clone 18-1 protein m...  biotech   \n",
       "3  [Denileukin, Interleukin-2/diptheria toxin fus...  biotech   \n",
       "4  [Etanercept, etanercept-szzs, etanercept-ykro,...  biotech   \n",
       "\n",
       "                        groups  atc_codes  \\\n",
       "0                   [approved]  [B01AE02]   \n",
       "1                   [approved]  [L01XC06]   \n",
       "2                   [approved]  [R05CB13]   \n",
       "3  [approved, investigational]  [L01XX29]   \n",
       "4  [approved, investigational]  [L04AB01]   \n",
       "\n",
       "                                            mesh_ids  \\\n",
       "0  [D000602, D000925, D058833, D000991, None, D00...   \n",
       "1  [D000602, D000906, D000911, D061067, D000970, ...   \n",
       "2  [D000602, None, None, D003851, D004706, D00472...   \n",
       "3  [D036002, D000602, D000970, None, D001427, D00...   \n",
       "4  [None, D000602, D000893, D000906, D018501, D00...   \n",
       "\n",
       "                                          categories  logP  logS  ...  \\\n",
       "0  [Amino Acids, Peptides, and Proteins, Anticoag...  None  None  ...   \n",
       "1  [Amino Acids, Peptides, and Proteins, Antibodi...  None  None  ...   \n",
       "2  [Amino Acids, Peptides, and Proteins, Cough an...  None  None  ...   \n",
       "3  [ADP Ribose Transferases, Amino Acids, Peptide...  None  None  ...   \n",
       "4  [Agents reducing cytokine levels, Amino Acids,...  None  None  ...   \n",
       "\n",
       "                                       targets_genes enzymes enzymes_genes  \\\n",
       "0                                               [F2]      []            []   \n",
       "1  [EGFR, FCGR3B, C1R, C1QA, C1QB, C1QC, FCGR3A, ...      []            []   \n",
       "2                                                 []      []            []   \n",
       "3                              [IL2RA, IL2RB, IL2RG]      []            []   \n",
       "4  [TNF, TNFRSF1B, FCGR1A, FCGR3A, FCGR2A, FCGR2B...      []            []   \n",
       "\n",
       "  carriers carriers_genes transporters transporters_genes  \\\n",
       "0       []             []           []                 []   \n",
       "1       []             []           []                 []   \n",
       "2       []             []           []                 []   \n",
       "3       []             []           []                 []   \n",
       "4       []             []           []                 []   \n",
       "\n",
       "                                              routes  \\\n",
       "0  [Intravenous, Intravenous, Intravenous, Intrav...   \n",
       "1            [Intravenous, Intravenous, Intravenous]   \n",
       "2  [Respiratory (inhalation), Respiratory (inhala...   \n",
       "3                                      [Intravenous]   \n",
       "4  [Subcutaneous, Subcutaneous, Subcutaneous, Sub...   \n",
       "\n",
       "                                               forms  \\\n",
       "0  [Injection, solution, concentrate, Injection, ...   \n",
       "1          [Injection, solution, Solution, Solution]   \n",
       "2                               [Solution, Solution]   \n",
       "3                              [Injection, solution]   \n",
       "4  [Solution, , Injection, powder, for solution, ...   \n",
       "\n",
       "                                           strengths  \n",
       "0                   [20 mg, 50 mg, 50 mg/1mL, 50 mg]  \n",
       "1                          [5 mg/ml, 2 mg, 2 mg/1mL]  \n",
       "2                                       [1 mg/1mL, ]  \n",
       "3                                       [150 ug/1mL]  \n",
       "4  [, 25 mg/1mL, 10 mg, 25 mg, 50 mg, 25 mg, 50 m...  \n",
       "\n",
       "[5 rows x 29 columns]"
      ]
     },
     "execution_count": 6,
     "metadata": {},
     "output_type": "execute_result"
    }
   ],
   "source": [
    "drugbank_df.head()"
   ]
  },
  {
   "cell_type": "code",
   "execution_count": 7,
   "metadata": {},
   "outputs": [
    {
     "name": "stdout",
     "output_type": "stream",
     "text": [
      "Number of all drugs in DrugBank:  13475\n"
     ]
    }
   ],
   "source": [
    "print('Number of all drugs in DrugBank: ', drugbank_df.shape[0])"
   ]
  },
  {
   "cell_type": "code",
   "execution_count": 17,
   "metadata": {},
   "outputs": [
    {
     "name": "stdout",
     "output_type": "stream",
     "text": [
      "Number of all drugs in DrugBank:  13339\n"
     ]
    }
   ],
   "source": [
    "print('Number of all drugs in DrugBank: ', drugbank_df.shape[0])"
   ]
  },
  {
   "cell_type": "markdown",
   "metadata": {},
   "source": [
    "## 2.2 Construct a separate \"slim\" table"
   ]
  },
  {
   "cell_type": "markdown",
   "metadata": {},
   "source": [
    "-  for approved, small molecule drugs"
   ]
  },
  {
   "cell_type": "code",
   "execution_count": 8,
   "metadata": {},
   "outputs": [
    {
     "name": "stdout",
     "output_type": "stream",
     "text": [
      "Number of approved, small-molecule drugs in DrugBank:  2635\n"
     ]
    }
   ],
   "source": [
    "# keep entries for approved, small molecule drugs \n",
    "drugbank_slim_df = drugbank_df[\n",
    "    drugbank_df.groups.map(lambda x: 'approved' in x) &\n",
    "    drugbank_df.type.map(lambda x: x == 'small molecule')\n",
    "]\n",
    "\n",
    "print('Number of approved, small-molecule drugs in DrugBank: ', drugbank_slim_df.shape[0])"
   ]
  },
  {
   "cell_type": "markdown",
   "metadata": {},
   "source": [
    "## 2.3 Construct a DDI drug candidate table"
   ]
  },
  {
   "cell_type": "markdown",
   "metadata": {},
   "source": [
    "- for drugs with all full data entry based on the \"slim\" dataframe "
   ]
  },
  {
   "cell_type": "code",
   "execution_count": 9,
   "metadata": {},
   "outputs": [
    {
     "name": "stdout",
     "output_type": "stream",
     "text": [
      "Number of approved, small-molecule drugs with full information in DrugBank:  2301\n"
     ]
    }
   ],
   "source": [
    "# remove rows with any nan entry\n",
    "DDI_candicate_df = drugbank_slim_df.dropna(how='any')\n",
    "\n",
    "print('Number of approved, small-molecule drugs with full information in DrugBank: ', DDI_candicate_df.shape[0])"
   ]
  },
  {
   "cell_type": "markdown",
   "metadata": {},
   "source": [
    "## 2.4 Write & read for future processing"
   ]
  },
  {
   "cell_type": "code",
   "execution_count": 10,
   "metadata": {},
   "outputs": [],
   "source": [
    "# write drugbank_df \n",
    "drugbank_df.to_pickle(r'drugbank.pkl')\n",
    "\n",
    "# write drugbank_slim_df \n",
    "drugbank_slim_df.to_pickle(r'drugbank_slim_df.pkl')\n",
    "\n",
    "# write DDI_candicate_df \n",
    "DDI_candicate_df.to_pickle(r'DDI_candicate_df.pkl')"
   ]
  },
  {
   "cell_type": "code",
   "execution_count": null,
   "metadata": {},
   "outputs": [],
   "source": [
    "# # read drugbank_df \n",
    "# drugbank_df = pd.read_pickle('drugbank.pkl')\n",
    "\n",
    "# # read drugbank_slim_df \n",
    "# drugbank_slim_df = pd.read_pickle('drugbank_slim_df.pkl')\n",
    "\n",
    "# # read DDI_candicate_df \n",
    "# DDI_candicate_df = pd.read_pickle('DDI_candicate_df.pkl')"
   ]
  },
  {
   "cell_type": "markdown",
   "metadata": {},
   "source": [
    "# 3. Construct a DDI table"
   ]
  },
  {
   "cell_type": "markdown",
   "metadata": {},
   "source": [
    "## 3.1 Extract all DDI"
   ]
  },
  {
   "cell_type": "code",
   "execution_count": 38,
   "metadata": {},
   "outputs": [],
   "source": [
    "ns = '{http://www.drugbank.ca}'\n",
    "\n",
    "drugInteraction_rows = list()\n",
    "for i, drug in enumerate(root):\n",
    "    row = collections.OrderedDict()\n",
    "    drugbank_id = drug.findtext(ns + \"drugbank-id[@primary='true']\")\n",
    "    drugName = drug.findtext(ns + \"name\")\n",
    "    drugType = drug.get('type')\n",
    "    drugGroups = [group.text for group in drug.findall(\"{ns}groups/{ns}group\".format(ns = ns))]\n",
    "    drugInteractions = drug.findall('{ns}{item}s/{ns}{item}'.format(ns=ns, item=\"drug-interaction\"))\n",
    "    for drugInteraction in drugInteractions:\n",
    "        DDI_Description = drugInteraction.findtext(ns + \"description\")\n",
    "        if DDI_Description is not None:\n",
    "            drugI_drugbank_id = drugInteraction.findtext(ns + \"drugbank-id\")\n",
    "            row['drugI_drugbank_id'] = drugI_drugbank_id # notice it is drugI_drugbank-id here!!\n",
    "            row['drugI_Name'] = drugInteraction.findtext(ns + \"name\")\n",
    "            row['DDI_Description'] = DDI_Description\n",
    "\n",
    "            row['drugbank_id'] = drugbank_id\n",
    "            row['name'] = drugName\n",
    "            row['groups'] = drugGroups\n",
    "            row['type'] = drugType\n",
    "\n",
    "            drugInteraction_rows.append(copy.copy(row))"
   ]
  },
  {
   "cell_type": "code",
   "execution_count": 39,
   "metadata": {},
   "outputs": [],
   "source": [
    "columns = ['drugbank_id','name','groups', 'type', \\\n",
    "           'drugI_drugbank_id','drugI_Name', \"DDI_Description\"] \n",
    "drugInteraction_df = pd.DataFrame.from_dict(drugInteraction_rows)\n",
    "drugInteraction_df = drugInteraction_df[columns]"
   ]
  },
  {
   "cell_type": "code",
   "execution_count": 40,
   "metadata": {},
   "outputs": [
    {
     "data": {
      "text/html": [
       "<div>\n",
       "<style scoped>\n",
       "    .dataframe tbody tr th:only-of-type {\n",
       "        vertical-align: middle;\n",
       "    }\n",
       "\n",
       "    .dataframe tbody tr th {\n",
       "        vertical-align: top;\n",
       "    }\n",
       "\n",
       "    .dataframe thead th {\n",
       "        text-align: right;\n",
       "    }\n",
       "</style>\n",
       "<table border=\"1\" class=\"dataframe\">\n",
       "  <thead>\n",
       "    <tr style=\"text-align: right;\">\n",
       "      <th></th>\n",
       "      <th>drugbank_id</th>\n",
       "      <th>name</th>\n",
       "      <th>groups</th>\n",
       "      <th>type</th>\n",
       "      <th>drugI_drugbank_id</th>\n",
       "      <th>drugI_Name</th>\n",
       "      <th>DDI_Description</th>\n",
       "    </tr>\n",
       "  </thead>\n",
       "  <tbody>\n",
       "    <tr>\n",
       "      <th>0</th>\n",
       "      <td>DB00001</td>\n",
       "      <td>Lepirudin</td>\n",
       "      <td>[approved]</td>\n",
       "      <td>biotech</td>\n",
       "      <td>DB06605</td>\n",
       "      <td>Apixaban</td>\n",
       "      <td>Apixaban may increase the anticoagulant activi...</td>\n",
       "    </tr>\n",
       "    <tr>\n",
       "      <th>1</th>\n",
       "      <td>DB00001</td>\n",
       "      <td>Lepirudin</td>\n",
       "      <td>[approved]</td>\n",
       "      <td>biotech</td>\n",
       "      <td>DB06695</td>\n",
       "      <td>Dabigatran etexilate</td>\n",
       "      <td>Dabigatran etexilate may increase the anticoag...</td>\n",
       "    </tr>\n",
       "    <tr>\n",
       "      <th>2</th>\n",
       "      <td>DB00001</td>\n",
       "      <td>Lepirudin</td>\n",
       "      <td>[approved]</td>\n",
       "      <td>biotech</td>\n",
       "      <td>DB01254</td>\n",
       "      <td>Dasatinib</td>\n",
       "      <td>The risk or severity of bleeding and hemorrhag...</td>\n",
       "    </tr>\n",
       "    <tr>\n",
       "      <th>3</th>\n",
       "      <td>DB00001</td>\n",
       "      <td>Lepirudin</td>\n",
       "      <td>[approved]</td>\n",
       "      <td>biotech</td>\n",
       "      <td>DB01609</td>\n",
       "      <td>Deferasirox</td>\n",
       "      <td>The risk or severity of gastrointestinal bleed...</td>\n",
       "    </tr>\n",
       "    <tr>\n",
       "      <th>4</th>\n",
       "      <td>DB00001</td>\n",
       "      <td>Lepirudin</td>\n",
       "      <td>[approved]</td>\n",
       "      <td>biotech</td>\n",
       "      <td>DB01586</td>\n",
       "      <td>Ursodeoxycholic acid</td>\n",
       "      <td>The risk or severity of bleeding and bruising ...</td>\n",
       "    </tr>\n",
       "  </tbody>\n",
       "</table>\n",
       "</div>"
      ],
      "text/plain": [
       "  drugbank_id       name      groups     type drugI_drugbank_id  \\\n",
       "0     DB00001  Lepirudin  [approved]  biotech           DB06605   \n",
       "1     DB00001  Lepirudin  [approved]  biotech           DB06695   \n",
       "2     DB00001  Lepirudin  [approved]  biotech           DB01254   \n",
       "3     DB00001  Lepirudin  [approved]  biotech           DB01609   \n",
       "4     DB00001  Lepirudin  [approved]  biotech           DB01586   \n",
       "\n",
       "             drugI_Name                                    DDI_Description  \n",
       "0              Apixaban  Apixaban may increase the anticoagulant activi...  \n",
       "1  Dabigatran etexilate  Dabigatran etexilate may increase the anticoag...  \n",
       "2             Dasatinib  The risk or severity of bleeding and hemorrhag...  \n",
       "3           Deferasirox  The risk or severity of gastrointestinal bleed...  \n",
       "4  Ursodeoxycholic acid  The risk or severity of bleeding and bruising ...  "
      ]
     },
     "execution_count": 40,
     "metadata": {},
     "output_type": "execute_result"
    }
   ],
   "source": [
    "drugInteraction_df.head()"
   ]
  },
  {
   "cell_type": "markdown",
   "metadata": {},
   "source": [
    "-  Add groups and type to the drugI based on \"drugbank_df\" table"
   ]
  },
  {
   "cell_type": "code",
   "execution_count": 41,
   "metadata": {},
   "outputs": [],
   "source": [
    "idGroups_Dict = dict(zip(drugbank_df['drugbank_id'],drugbank_df['groups']))\n",
    "idType_Dict = dict(zip(drugbank_df['drugbank_id'],drugbank_df['type']))"
   ]
  },
  {
   "cell_type": "code",
   "execution_count": 42,
   "metadata": {},
   "outputs": [],
   "source": [
    "drugInteraction_df[\"drugI_groups\"] = \\\n",
    "drugInteraction_df[\"drugI_drugbank_id\"].map(idGroups_Dict)"
   ]
  },
  {
   "cell_type": "code",
   "execution_count": 43,
   "metadata": {},
   "outputs": [],
   "source": [
    "drugInteraction_df[\"drugI_type\"] = \\\n",
    "drugInteraction_df[\"drugI_drugbank_id\"].map(idType_Dict)"
   ]
  },
  {
   "cell_type": "code",
   "execution_count": 44,
   "metadata": {},
   "outputs": [
    {
     "name": "stdout",
     "output_type": "stream",
     "text": [
      "The total number for DDI record is:  2723944\n"
     ]
    }
   ],
   "source": [
    "print(\"The total number for DDI record is: \", drugInteraction_df.shape[0])"
   ]
  },
  {
   "cell_type": "code",
   "execution_count": 45,
   "metadata": {},
   "outputs": [
    {
     "data": {
      "text/plain": [
       "['Apixaban may increase the anticoagulant activities of Lepirudin.']"
      ]
     },
     "execution_count": 45,
     "metadata": {},
     "output_type": "execute_result"
    }
   ],
   "source": [
    "# information in the DDI_Description\n",
    "list(drugInteraction_df.head(1)['DDI_Description'])"
   ]
  },
  {
   "cell_type": "markdown",
   "metadata": {},
   "source": [
    "## 3.3 Write & Read for future processing"
   ]
  },
  {
   "cell_type": "code",
   "execution_count": 52,
   "metadata": {},
   "outputs": [],
   "source": [
    "# write drugInteraction_df \n",
    "drugInteraction_df.to_pickle(r'drugInteraction_df.pkl')"
   ]
  },
  {
   "cell_type": "code",
   "execution_count": 53,
   "metadata": {},
   "outputs": [],
   "source": [
    "# # read drugInteraction_df \n",
    "# drugInteraction_df = pd.read_pickle('drugInteraction_df.pkl')"
   ]
  },
  {
   "cell_type": "markdown",
   "metadata": {},
   "source": [
    "## 3.4 Examine number of drugs"
   ]
  },
  {
   "cell_type": "code",
   "execution_count": 54,
   "metadata": {},
   "outputs": [
    {
     "name": "stdout",
     "output_type": "stream",
     "text": [
      "Number of drugs in the drugbank_df:  13339\n"
     ]
    }
   ],
   "source": [
    "print(\"Number of drugs in the drugbank_df: \", len(set(list(drugbank_df['drugbank_id']))))"
   ]
  },
  {
   "cell_type": "code",
   "execution_count": 55,
   "metadata": {},
   "outputs": [
    {
     "name": "stdout",
     "output_type": "stream",
     "text": [
      "Number of drugs in the drugbank_slim_df:  2594\n"
     ]
    }
   ],
   "source": [
    "print(\"Number of drugs in the drugbank_slim_df: \", len(set(list(drugbank_slim_df['drugbank_id']))))"
   ]
  },
  {
   "cell_type": "code",
   "execution_count": 56,
   "metadata": {},
   "outputs": [
    {
     "name": "stdout",
     "output_type": "stream",
     "text": [
      "Number of primary drugs in the drugInteraction_df 3949\n"
     ]
    }
   ],
   "source": [
    "print(\"Number of primary drugs in the drugInteraction_df\",\\\n",
    "      len(set(list(drugInteraction_df['drugbank_id']))))"
   ]
  },
  {
   "cell_type": "code",
   "execution_count": 57,
   "metadata": {},
   "outputs": [
    {
     "name": "stdout",
     "output_type": "stream",
     "text": [
      "Number of interacting drugs in the drugInteraction_df 3950\n"
     ]
    }
   ],
   "source": [
    "print(\"Number of interacting drugs in the drugInteraction_df\",\\\n",
    "len(set(list(drugInteraction_df['drugI_drugbank_id']))))"
   ]
  },
  {
   "cell_type": "code",
   "execution_count": 58,
   "metadata": {},
   "outputs": [
    {
     "name": "stdout",
     "output_type": "stream",
     "text": [
      "Number of overlapping drugs between primary and interacting drugs in the drugInteraction_df:  3949\n"
     ]
    }
   ],
   "source": [
    "print(\"Number of overlapping drugs between primary and interacting drugs in the drugInteraction_df: \",\n",
    "len(set(list(drugInteraction_df['drugbank_id'])) & set(list(drugInteraction_df['drugI_drugbank_id']))))"
   ]
  },
  {
   "cell_type": "markdown",
   "metadata": {},
   "source": [
    "# 4. Construct a DDI dataset"
   ]
  },
  {
   "cell_type": "code",
   "execution_count": 59,
   "metadata": {},
   "outputs": [
    {
     "name": "stdout",
     "output_type": "stream",
     "text": [
      "Number of DDI drug candidates 2594\n"
     ]
    }
   ],
   "source": [
    "# DDI_drugCandidates based on the drugbank_slim_df drug entries\n",
    "DDI_drugCandidates = list(drugbank_slim_df['drugbank_id']) # add set?\n",
    "print('Number of DDI drug candidates', len(DDI_drugCandidates))"
   ]
  },
  {
   "cell_type": "markdown",
   "metadata": {},
   "source": [
    "## 4.1 Iterate all drug-drug combinations"
   ]
  },
  {
   "cell_type": "markdown",
   "metadata": {},
   "source": [
    "-  DDI labeling"
   ]
  },
  {
   "cell_type": "code",
   "execution_count": 60,
   "metadata": {},
   "outputs": [],
   "source": [
    "# construct the DDI dataset, primarily labels column, by referring to the drugInteraction_df entry\n",
    "numDrugs = len(DDI_drugCandidates)\n",
    "DDI_matrix = np.empty(shape=(int(numDrugs * (numDrugs-1) / 2), 3), dtype=object)"
   ]
  },
  {
   "cell_type": "code",
   "execution_count": 61,
   "metadata": {},
   "outputs": [],
   "source": [
    "drugInteractionTable = drugInteraction_df[['drugbank_id', 'drugI_drugbank_id']]"
   ]
  },
  {
   "cell_type": "code",
   "execution_count": 62,
   "metadata": {},
   "outputs": [
    {
     "name": "stdout",
     "output_type": "stream",
     "text": [
      "442 ms ± 347 µs per loop (mean ± std. dev. of 7 runs, 1 loop each)\n"
     ]
    }
   ],
   "source": [
    "%timeit drugInteractionTable.loc[(drugInteractionTable['drugbank_id']=='DB00001')\\\n",
    "                               &(drugInteractionTable['drugI_drugbank_id']=='DB08860')]"
   ]
  },
  {
   "cell_type": "code",
   "execution_count": 63,
   "metadata": {},
   "outputs": [],
   "source": [
    "drugInteractionTable = drugInteractionTable.set_index(['drugbank_id','drugI_drugbank_id'])"
   ]
  },
  {
   "cell_type": "code",
   "execution_count": 64,
   "metadata": {},
   "outputs": [
    {
     "name": "stdout",
     "output_type": "stream",
     "text": [
      "8 ms ± 22.7 µs per loop (mean ± std. dev. of 7 runs, 1 loop each)\n"
     ]
    },
    {
     "name": "stderr",
     "output_type": "stream",
     "text": [
      "/home/jdeng/miniconda3/lib/python3.7/site-packages/ipykernel_launcher.py:1: PerformanceWarning: indexing past lexsort depth may impact performance.\n",
      "  \"\"\"Entry point for launching an IPython kernel.\n"
     ]
    }
   ],
   "source": [
    "%timeit drugInteractionTable.loc[('DB00001', 'DB08860')]"
   ]
  },
  {
   "cell_type": "code",
   "execution_count": 65,
   "metadata": {
    "scrolled": false
   },
   "outputs": [
    {
     "name": "stderr",
     "output_type": "stream",
     "text": [
      "/home/jdeng/miniconda3/lib/python3.7/site-packages/ipykernel_launcher.py:16: PerformanceWarning: indexing past lexsort depth may impact performance.\n",
      "  app.launch_new_instance()\n",
      "/home/jdeng/miniconda3/lib/python3.7/site-packages/ipykernel_launcher.py:20: PerformanceWarning: indexing past lexsort depth may impact performance.\n"
     ]
    }
   ],
   "source": [
    "num = 0\n",
    "for i in range(numDrugs):\n",
    "#     print('i: ',i)\n",
    "#     print('num: ', num)\n",
    "    for j in range(i+1, numDrugs):\n",
    "#         print('j: ',j)\n",
    "        index = num + j - (i+1)\n",
    "#         print('index: ', index)\n",
    "    \n",
    "        drug1_id = DDI_drugCandidates[i]\n",
    "        DDI_matrix[index, 0] = drug1_id\n",
    "        drug2_id = DDI_drugCandidates[j]\n",
    "        DDI_matrix[index, 1] = drug2_id\n",
    "        \n",
    "        try:\n",
    "            drugInteractionTable.loc[(drug1_id, drug2_id)]\n",
    "            DDI_matrix[index, 2] = 1\n",
    "        except KeyError:\n",
    "            try:\n",
    "                drugInteractionTable.loc[(drug2_id, drug1_id)]\n",
    "                DDI_matrix[index, 2] = 1\n",
    "            except KeyError:\n",
    "                DDI_matrix[index, 2] = 0\n",
    "    num += (numDrugs - (i+1))\n"
   ]
  },
  {
   "cell_type": "code",
   "execution_count": 66,
   "metadata": {},
   "outputs": [
    {
     "name": "stdout",
     "output_type": "stream",
     "text": [
      "i:  2593\n",
      "j:  2593\n"
     ]
    }
   ],
   "source": [
    "print('i: ',i)\n",
    "print('j: ',j)"
   ]
  },
  {
   "cell_type": "code",
   "execution_count": 67,
   "metadata": {},
   "outputs": [
    {
     "name": "stdout",
     "output_type": "stream",
     "text": [
      "Number of drug-drug pairs in the DDI dataset:  3363121\n"
     ]
    }
   ],
   "source": [
    "# make a dataframe for the DDI dataset\n",
    "DDI_df = pd.DataFrame({'drug1_id': DDI_matrix[:,0], 'drug2_id': DDI_matrix[:,1], 'DDI': DDI_matrix[:,2]})\n",
    "\n",
    "# print the size of the DDI dataset\n",
    "print('Number of drug-drug pairs in the DDI dataset: ', DDI_df.shape[0])"
   ]
  },
  {
   "cell_type": "markdown",
   "metadata": {},
   "source": [
    "## 4.2 Add drug properties"
   ]
  },
  {
   "cell_type": "code",
   "execution_count": 68,
   "metadata": {},
   "outputs": [],
   "source": [
    "info_List = ['name', 'atc_codes',  'targets', 'enzymes',  'carriers', 'transporters', ] \n",
    "\n",
    "# 'mesh_ids', 'logP', 'logS', 'mw', 'psa', 'hbondacceptor','hbonddonor', 'smiles',\n",
    "# 'targets_genes','enzymes_genes','carriers_genes', 'transporters_genes', 'routes'"
   ]
  },
  {
   "cell_type": "code",
   "execution_count": 69,
   "metadata": {},
   "outputs": [],
   "source": [
    "# define a function to assign information to each drug\n",
    "def assignDrugInfo(info_List):\n",
    "    for item in info_List:\n",
    "        item_Dict = dict(zip(drugbank_df['drugbank_id'],drugbank_df[item]))\n",
    "        drug1_item = 'drug1_' + item\n",
    "        DDI_df[drug1_item] = DDI_df[\"drug1_id\"].map(item_Dict)\n",
    "        drug2_item = 'drug2_' + item\n",
    "        DDI_df[drug2_item] = DDI_df[\"drug2_id\"].map(item_Dict)"
   ]
  },
  {
   "cell_type": "code",
   "execution_count": 70,
   "metadata": {},
   "outputs": [],
   "source": [
    "# assign info to each drug\n",
    "assignDrugInfo(info_List)"
   ]
  },
  {
   "cell_type": "markdown",
   "metadata": {},
   "source": [
    "## 4.3 Write & Read for future processing"
   ]
  },
  {
   "cell_type": "code",
   "execution_count": 72,
   "metadata": {},
   "outputs": [],
   "source": [
    "# write DDI_df \n",
    "DDI_df.to_csv(r'new_DDI_df.csv', index=False)"
   ]
  },
  {
   "cell_type": "code",
   "execution_count": null,
   "metadata": {},
   "outputs": [],
   "source": [
    "# # note some lists may be converted to string variables\n",
    "# # may need to restore the list type for certain columns \n",
    "# DDI_df['drug1_atc_codes'] = \\\n",
    "# [re.findall(r\"'(.*?)'\", item, re.DOTALL) for item in list(DDI_df['drug1_atc_codes'])]\n",
    "\n",
    "# DDI_df['drug2_atc_codes'] = \\\n",
    "# [re.findall(r\"'(.*?)'\", item, re.DOTALL) for item in list(DDI_df['drug2_atc_codes'])]"
   ]
  },
  {
   "cell_type": "code",
   "execution_count": null,
   "metadata": {},
   "outputs": [],
   "source": [
    "# list(DDI_df['drug1_atc_codes'])"
   ]
  },
  {
   "cell_type": "markdown",
   "metadata": {},
   "source": [
    "## 4.4 Look into DDI_df"
   ]
  },
  {
   "cell_type": "code",
   "execution_count": 73,
   "metadata": {},
   "outputs": [
    {
     "data": {
      "text/plain": [
       "Index(['drug1_id', 'drug2_id', 'DDI', 'drug1_name', 'drug2_name',\n",
       "       'drug1_atc_codes', 'drug2_atc_codes', 'drug1_targets', 'drug2_targets',\n",
       "       'drug1_enzymes', 'drug2_enzymes', 'drug1_carriers', 'drug2_carriers',\n",
       "       'drug1_transporters', 'drug2_transporters'],\n",
       "      dtype='object')"
      ]
     },
     "execution_count": 73,
     "metadata": {},
     "output_type": "execute_result"
    }
   ],
   "source": [
    "DDI_df.columns"
   ]
  },
  {
   "cell_type": "code",
   "execution_count": 74,
   "metadata": {},
   "outputs": [
    {
     "name": "stdout",
     "output_type": "stream",
     "text": [
      "Positive DDI rate:  0.18302552896550556\n"
     ]
    }
   ],
   "source": [
    "# print positive DDI rate in the DDI dataset\n",
    "print('Positive DDI rate: ', np.sum(DDI_df['DDI']) / DDI_df.shape[0])"
   ]
  },
  {
   "cell_type": "code",
   "execution_count": 75,
   "metadata": {},
   "outputs": [
    {
     "data": {
      "text/plain": [
       "2593"
      ]
     },
     "execution_count": 75,
     "metadata": {},
     "output_type": "execute_result"
    }
   ],
   "source": [
    "len(set(list(DDI_df['drug1_name'])).union(set(list(DDI_df['drug1_name']))))"
   ]
  },
  {
   "cell_type": "code",
   "execution_count": 76,
   "metadata": {},
   "outputs": [
    {
     "data": {
      "text/plain": [
       "2593"
      ]
     },
     "execution_count": 76,
     "metadata": {},
     "output_type": "execute_result"
    }
   ],
   "source": [
    "len(set(list(DDI_df['drug2_name'])))"
   ]
  },
  {
   "cell_type": "code",
   "execution_count": 77,
   "metadata": {},
   "outputs": [
    {
     "data": {
      "text/plain": [
       "767"
      ]
     },
     "execution_count": 77,
     "metadata": {},
     "output_type": "execute_result"
    }
   ],
   "source": [
    "np.sum(DDI_df[DDI_df['drug1_name'] == 'Valsartan']['DDI'])"
   ]
  },
  {
   "cell_type": "code",
   "execution_count": 78,
   "metadata": {},
   "outputs": [
    {
     "data": {
      "text/plain": [
       "False"
      ]
     },
     "execution_count": 78,
     "metadata": {},
     "output_type": "execute_result"
    }
   ],
   "source": [
    "DDI_df.isnull().values.any()"
   ]
  },
  {
   "cell_type": "code",
   "execution_count": 79,
   "metadata": {},
   "outputs": [
    {
     "data": {
      "text/plain": [
       "(3363121, 15)"
      ]
     },
     "execution_count": 79,
     "metadata": {},
     "output_type": "execute_result"
    }
   ],
   "source": [
    "DDI_df.shape"
   ]
  }
 ],
 "metadata": {
  "kernelspec": {
   "display_name": "Python 3",
   "language": "python",
   "name": "python3"
  },
  "language_info": {
   "codemirror_mode": {
    "name": "ipython",
    "version": 3
   },
   "file_extension": ".py",
   "mimetype": "text/x-python",
   "name": "python",
   "nbconvert_exporter": "python",
   "pygments_lexer": "ipython3",
   "version": "3.7.8"
  }
 },
 "nbformat": 4,
 "nbformat_minor": 2
}
